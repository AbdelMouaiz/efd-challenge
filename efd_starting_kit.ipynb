{
 "cells": [
  {
   "cell_type": "markdown",
   "metadata": {
    "id": "Dxcr3Vi0yj48"
   },
   "source": [
    "# The European Football Database\n",
    "\n"
   ]
  },
  {
   "cell_type": "markdown",
   "metadata": {
    "id": "jDUtv_S7eGby"
   },
   "source": [
    "## 1. Introduction\n",
    "\n",
    "The data give information on the matches played in 11 different European leagues over 8 years (from the 2008/2009 season to the 2015/2016 season).\n",
    "Most of the leagues consist of 20 teams (for example the German league consists of 18 teams) which play 2 matches against each other (one home and one away).  In other words, each team plays a total of 38 matches in one season.\n",
    "\n",
    "A team wins 3 points with each win, 1 point after a draw and wins nothing after a defeat. \n",
    "The team with the most points at the end of the season wins the league. In case of a tie in points between two (or more) teams, the champion is chosen according to the specific rules of each league. For example in Spain, the champion is the winner of the direct matches between the teams concerned.\n",
    "\n",
    "At the end of a season, the 2 worst performing teams are replaced by the 2 best teams of the second division league.\n",
    "The team ranked 18th plays against the 3rd of second division. The winner plays in first division and the loser plays in second division."
   ]
  },
  {
   "cell_type": "code",
   "execution_count": 1,
   "metadata": {},
   "outputs": [
    {
     "data": {
      "text/plain": [
       "Index(['stage', 'date', 'home_team_api_id', 'away_team_api_id',\n",
       "       'home_player_X1', 'home_player_X2', 'home_player_X3', 'home_player_X4',\n",
       "       'home_player_X5', 'home_player_X6', 'home_player_X7', 'home_player_X8',\n",
       "       'home_player_X9', 'home_player_X10', 'home_player_X11',\n",
       "       'away_player_X1', 'away_player_X2', 'away_player_X3', 'away_player_X4',\n",
       "       'away_player_X5', 'away_player_X6', 'away_player_X7', 'away_player_X8',\n",
       "       'away_player_X9', 'away_player_X10', 'away_player_X11',\n",
       "       'home_player_Y1', 'home_player_Y2', 'home_player_Y3', 'home_player_Y4',\n",
       "       'home_player_Y5', 'home_player_Y6', 'home_player_Y7', 'home_player_Y8',\n",
       "       'home_player_Y9', 'home_player_Y10', 'home_player_Y11',\n",
       "       'away_player_Y1', 'away_player_Y2', 'away_player_Y3', 'away_player_Y4',\n",
       "       'away_player_Y5', 'away_player_Y6', 'away_player_Y7', 'away_player_Y8',\n",
       "       'away_player_Y9', 'away_player_Y10', 'away_player_Y11', 'B365H',\n",
       "       'B365D', 'B365A', 'BWH', 'BWD', 'BWA', 'IWH', 'IWD', 'IWA', 'LBH',\n",
       "       'LBD', 'LBA', 'PSH', 'PSD', 'PSA', 'WHH', 'WHD', 'WHA', 'SJH', 'SJD',\n",
       "       'SJA', 'VCH', 'VCD', 'VCA', 'GBH', 'GBD', 'GBA', 'BSH', 'BSD', 'BSA'],\n",
       "      dtype='object')"
      ]
     },
     "execution_count": 1,
     "metadata": {},
     "output_type": "execute_result"
    }
   ],
   "source": [
    "import problem\n",
    "X, y = problem.get_train_data()\n",
    "X.columns"
   ]
  },
  {
   "cell_type": "code",
   "execution_count": 7,
   "metadata": {},
   "outputs": [
    {
     "data": {
      "text/plain": [
       "0    8964\n",
       "1    5473\n",
       "2    4891\n",
       "dtype: int64"
      ]
     },
     "execution_count": 7,
     "metadata": {},
     "output_type": "execute_result"
    }
   ],
   "source": [
    "y.value_counts()"
   ]
  },
  {
   "cell_type": "markdown",
   "metadata": {
    "id": "aWCme_vReFZQ"
   },
   "source": [
    "## 2. Description of the columns\n",
    "\n",
    "Now, time to present the features we have, in the `X` dataframe.\n",
    "\n",
    "### 2.1. Non-discriminative variables: \n",
    "\n",
    "- `date`: date of the match\n",
    "\n",
    "- `stage` : means the order of the match within the season. Goes from 1 to 38\n",
    "\n",
    "- `home_team_api_id`: id of the home team\n",
    "\n",
    "- `away_team_api_id`: id of the visitor team\n",
    "\n",
    "### 2.2. Discriminative variables:\n",
    "\n",
    "- `home_player_Xi`, `home_player_Yi`, `away_player_Xi`, `away_player_Yi`: X/Y coordinate for the i-th player of the home/away team in the field, at the beginning of the match\n",
    "\n",
    "- `B365H`: Bet factor favouring home team win according to B365 betting website\n",
    "\n",
    "- `B365A`: Bet factor favouring away team win according to B365 betting website\n",
    "\n",
    "- `B365D`: Bet factor favouring a draw according to B365 betting website\n",
    "\n",
    "- Same goes when we replace `B365` with: `BW`, `IW`, `LB`, `PS`, `WH`, `SJ`, `VC`, `GB` and `SH`.\n",
    "\n",
    "### 2.3. Target categories\n",
    "\n",
    "There are 3 possible classes, corresponding to the 3 possible outcomes of a match.\n",
    "\n",
    "- `0`; home team wins\n",
    "\n",
    "- `1`: away team wins\n",
    "\n",
    "- `2`: draw match, none of the teams wins"
   ]
  },
  {
   "cell_type": "markdown",
   "metadata": {
    "id": "b157rTNEesNV"
   },
   "source": [
    "## 3. Exploratory Data Analysis\n",
    "\n",
    "We'll do here some plots, as seen in the Stars challenge"
   ]
  },
  {
   "cell_type": "code",
   "execution_count": null,
   "metadata": {
    "id": "oIjCaRei9ut_"
   },
   "outputs": [],
   "source": [
    "# Visualisation selon les variables :\n",
    "    \n",
    "colors = ['r', 'b', 'g']\n",
    "labels = [0, 1, 2]\n",
    "\n",
    "def plot_classwise_normalized(feature, bins=None):\n",
    "    if bins is None:\n",
    "        bins = np.linspace(X_train[feature].min(), X_train[feature].max(), 10)\n",
    "    for label, color in zip(labels, colors):\n",
    "        plt.hist(X_train[y_train == label][feature].values, density=True, bins=bins, \n",
    "                 alpha=0.8, color=color)\n",
    "        plt.xlabel(feature)\n",
    "        plt.ylabel(\"Density\")\n",
    "\n",
    "        \n",
    "#for feature in features :\n",
    "#    plt.figure()\n",
    "#    plot_classwise_normalized(feature)\n",
    "    \n",
    "    \n",
    "def plot_classwise_scatter(feature1, feature2, range1=None, range2=None):\n",
    "    if range1 is None:\n",
    "        range1 = [X_train[feature1].min(), X_train[feature1].max()]\n",
    "    if range2 is None:\n",
    "        range2 = [X_train[feature2].min(), X_train[feature2].max()]\n",
    "    for label, color in zip(labels, colors):\n",
    "        plt.xlim(range1[0], range1[1])\n",
    "        plt.ylim(range2[0], range2[1])\n",
    "        plt.scatter(X_train[y_train == label][feature1], \n",
    "                    X_train[y_train == label][feature2],\n",
    "            alpha=0.3, s=80, c=color, marker='.');"
   ]
  },
  {
   "cell_type": "markdown",
   "metadata": {
    "id": "xgqktiB2ey-6"
   },
   "source": [
    "## 4. Explanation of the challenge\n",
    "\n",
    "The goal is to predict the outcome of a match, given the data we have. We make the (strong) hypothesis the outcome of the match depends only on the columns given. But one can compute aggregated features using the previous columns, as they are ordered chronologically, using the wonderful `sklearn`'s `FunctionTransformer`s."
   ]
  },
  {
   "cell_type": "markdown",
   "metadata": {
    "id": "LHHgNkQefBTT"
   },
   "source": [
    "### Example of pipeline with a Random Forests classifier"
   ]
  },
  {
   "cell_type": "code",
   "execution_count": 19,
   "metadata": {},
   "outputs": [
    {
     "name": "stdout",
     "output_type": "stream",
     "text": [
      "0.5104495564576755\n"
     ]
    }
   ],
   "source": [
    "from sklearn.pipeline import make_pipeline\n",
    "from sklearn.ensemble import RandomForestClassifier\n",
    "from sklearn.impute import SimpleImputer\n",
    "from sklearn.metrics import accuracy_score\n",
    "\n",
    "import problem\n",
    "X_train, y_train = problem.get_train_data()\n",
    "X_test, y_test = problem.get_test_data()\n",
    "\n",
    "cols = X_train.columns.drop('date')\n",
    "\n",
    "transformer = make_column_transformer(\n",
    "    ('passthrough', cols)\n",
    ")\n",
    "\n",
    "pipe = make_pipeline(\n",
    "    transformer,\n",
    "    SimpleImputer(strategy='most_frequent'),\n",
    "    RandomForestClassifier(max_depth=3, n_estimators=20)\n",
    ")\n",
    "\n",
    "pipe.fit(X_train, y_train)\n",
    "\n",
    "y_pred = pipe.predict(X_test)\n",
    "\n",
    "print(accuracy_score(y_test, y_pred))"
   ]
  },
  {
   "cell_type": "markdown",
   "metadata": {},
   "source": [
    "## 5. Submission\n",
    "\n",
    "To submit your code, you can refer to the online documentation."
   ]
  }
 ],
 "metadata": {
  "colab": {
   "name": "datacamp_challenge.ipynb",
   "provenance": [],
   "toc_visible": true
  },
  "kernelspec": {
   "display_name": "Python 3",
   "language": "python",
   "name": "python3"
  },
  "language_info": {
   "codemirror_mode": {
    "name": "ipython",
    "version": 3
   },
   "file_extension": ".py",
   "mimetype": "text/x-python",
   "name": "python",
   "nbconvert_exporter": "python",
   "pygments_lexer": "ipython3",
   "version": "3.8.5"
  }
 },
 "nbformat": 4,
 "nbformat_minor": 4
}
