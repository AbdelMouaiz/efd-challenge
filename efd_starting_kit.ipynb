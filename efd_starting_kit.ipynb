{
 "cells": [
  {
   "cell_type": "markdown",
   "metadata": {
    "id": "Dxcr3Vi0yj48"
   },
   "source": [
    "# The European Football Database\n",
    "\n"
   ]
  },
  {
   "cell_type": "markdown",
   "metadata": {
    "id": "jDUtv_S7eGby"
   },
   "source": [
    "away_player_Y1## 1. Introduction\n",
    "\n",
    "The European Football Database records data of several football championship seasons. It comes bundled as a sqlite database, which contains several tables that can easily be converted to CSV files and usable with pandas.\n",
    "\n",
    "One has to add the target column for the challenge."
   ]
  },
  {
   "cell_type": "code",
   "execution_count": 3,
   "metadata": {},
   "outputs": [
    {
     "name": "stdout",
     "output_type": "stream",
     "text": [
      "matches.zip\n"
     ]
    }
   ],
   "source": [
    "# !unzip data/matches.zip # has to be done once only, to comment after use"
   ]
  },
  {
   "cell_type": "code",
   "execution_count": 1,
   "metadata": {},
   "outputs": [
    {
     "data": {
      "text/plain": [
       "['Unnamed: 0',\n",
       " 'id',\n",
       " 'country_id',\n",
       " 'league_id',\n",
       " 'season',\n",
       " 'stage',\n",
       " 'date',\n",
       " 'match_api_id',\n",
       " 'home_team_api_id',\n",
       " 'away_team_api_id',\n",
       " 'home_team_goal',\n",
       " 'away_team_goal',\n",
       " 'home_player_X1',\n",
       " 'home_player_X2',\n",
       " 'home_player_X3',\n",
       " 'home_player_X4',\n",
       " 'home_player_X5',\n",
       " 'home_player_X6',\n",
       " 'home_player_X7',\n",
       " 'home_player_X8',\n",
       " 'home_player_X9',\n",
       " 'home_player_X10',\n",
       " 'home_player_X11',\n",
       " 'away_player_X1',\n",
       " 'away_player_X2',\n",
       " 'away_player_X3',\n",
       " 'away_player_X4',\n",
       " 'away_player_X5',\n",
       " 'away_player_X6',\n",
       " 'away_player_X7',\n",
       " 'away_player_X8',\n",
       " 'away_player_X9',\n",
       " 'away_player_X10',\n",
       " 'away_player_X11',\n",
       " 'home_player_Y1',\n",
       " 'home_player_Y2',\n",
       " 'home_player_Y3',\n",
       " 'home_player_Y4',\n",
       " 'home_player_Y5',\n",
       " 'home_player_Y6',\n",
       " 'home_player_Y7',\n",
       " 'home_player_Y8',\n",
       " 'home_player_Y9',\n",
       " 'home_player_Y10',\n",
       " 'home_player_Y11',\n",
       " 'away_player_Y1',\n",
       " 'away_player_Y2',\n",
       " 'away_player_Y3',\n",
       " 'away_player_Y4',\n",
       " 'away_player_Y5',\n",
       " 'away_player_Y6',\n",
       " 'away_player_Y7',\n",
       " 'away_player_Y8',\n",
       " 'away_player_Y9',\n",
       " 'away_player_Y10',\n",
       " 'away_player_Y11',\n",
       " 'home_player_1',\n",
       " 'home_player_2',\n",
       " 'home_player_3',\n",
       " 'home_player_4',\n",
       " 'home_player_5',\n",
       " 'home_player_6',\n",
       " 'home_player_7',\n",
       " 'home_player_8',\n",
       " 'home_player_9',\n",
       " 'home_player_10',\n",
       " 'home_player_11',\n",
       " 'away_player_1',\n",
       " 'away_player_2',\n",
       " 'away_player_3',\n",
       " 'away_player_4',\n",
       " 'away_player_5',\n",
       " 'away_player_6',\n",
       " 'away_player_7',\n",
       " 'away_player_8',\n",
       " 'away_player_9',\n",
       " 'away_player_10',\n",
       " 'away_player_11',\n",
       " 'goal',\n",
       " 'shoton',\n",
       " 'shotoff',\n",
       " 'foulcommit',\n",
       " 'card',\n",
       " 'cross',\n",
       " 'corner',\n",
       " 'possession',\n",
       " 'B365H',\n",
       " 'B365D',\n",
       " 'B365A',\n",
       " 'BWH',\n",
       " 'BWD',\n",
       " 'BWA',\n",
       " 'IWH',\n",
       " 'IWD',\n",
       " 'IWA',\n",
       " 'LBH',\n",
       " 'LBD',\n",
       " 'LBA',\n",
       " 'PSH',\n",
       " 'PSD',\n",
       " 'PSA',\n",
       " 'WHH',\n",
       " 'WHD',\n",
       " 'WHA',\n",
       " 'SJH',\n",
       " 'SJD',\n",
       " 'SJA',\n",
       " 'VCH',\n",
       " 'VCD',\n",
       " 'VCA',\n",
       " 'GBH',\n",
       " 'GBD',\n",
       " 'GBA',\n",
       " 'BSH',\n",
       " 'BSD',\n",
       " 'BSA']"
      ]
     },
     "execution_count": 1,
     "metadata": {},
     "output_type": "execute_result"
    }
   ],
   "source": [
    "import pandas as pd \n",
    "\n",
    "path = 'matches.csv'\n",
    "df_match = pd.read_csv(path)\n",
    "list(df_match.columns)"
   ]
  },
  {
   "cell_type": "code",
   "execution_count": 1,
   "metadata": {},
   "outputs": [
    {
     "ename": "SyntaxError",
     "evalue": "closing parenthesis ']' does not match opening parenthesis '(' on line 46 (problem.py, line 60)",
     "output_type": "error",
     "traceback": [
      "Traceback \u001b[0;36m(most recent call last)\u001b[0m:\n",
      "  File \u001b[1;32m\"/home/sylvestris/.miniconda3/lib/python3.8/site-packages/IPython/core/interactiveshell.py\"\u001b[0m, line \u001b[1;32m3418\u001b[0m, in \u001b[1;35mrun_code\u001b[0m\n    exec(code_obj, self.user_global_ns, self.user_ns)\n",
      "\u001b[0;36m  File \u001b[0;32m\"<ipython-input-1-108139b038d0>\"\u001b[0;36m, line \u001b[0;32m1\u001b[0;36m, in \u001b[0;35m<module>\u001b[0;36m\u001b[0m\n\u001b[0;31m    import problem\u001b[0m\n",
      "\u001b[0;36m  File \u001b[0;32m\"/home/sylvestris/Scolarité/Master DS/DataCamp/europe-football-database/problem.py\"\u001b[0;36m, line \u001b[0;32m60\u001b[0m\n\u001b[0;31m    ],\u001b[0m\n\u001b[0m    ^\u001b[0m\n\u001b[0;31mSyntaxError\u001b[0m\u001b[0;31m:\u001b[0m closing parenthesis ']' does not match opening parenthesis '(' on line 46\n"
     ]
    }
   ],
   "source": [
    "import problem\n",
    "X, y = problem.get_train_data()\n",
    "X.columns"
   ]
  },
  {
   "cell_type": "code",
   "execution_count": 2,
   "metadata": {},
   "outputs": [
    {
     "data": {
      "text/plain": [
       "0    8964\n",
       "1    5473\n",
       "2    4891\n",
       "dtype: int64"
      ]
     },
     "execution_count": 2,
     "metadata": {},
     "output_type": "execute_result"
    }
   ],
   "source": [
    "y.value_counts()"
   ]
  },
  {
   "cell_type": "markdown",
   "metadata": {
    "id": "e0yk8l7O9qjR"
   },
   "source": [
    "### Code à caser"
   ]
  },
  {
   "cell_type": "code",
   "execution_count": null,
   "metadata": {
    "id": "oIjCaRei9ut_",
    "jupyter": {
     "source_hidden": true
    }
   },
   "outputs": [],
   "source": [
    "import pandas as pd\n",
    "import sqlite3\n",
    "import numpy as np\n",
    "import matplotlib.pyplot as plt\n",
    "\n",
    "import sklearn\n",
    "from sklearn.impute import SimpleImputer\n",
    "\n",
    "import lightgbm as lgb\n",
    "\n",
    "\n",
    "# Importing data\n",
    "\n",
    "conn = sqlite3.connect('database.sqlite')\n",
    "query = \"SELECT * FROM Match;\"\n",
    "\n",
    "df = pd.read_sql_query(query,conn)\n",
    "\n",
    "df = df.drop(df.columns[range(77,85)],axis='columns')\n",
    "\n",
    "df = df.set_index('id')\n",
    "\n",
    "\n",
    "# Replacing Null values\n",
    "\n",
    "df.iloc[:,10:76] = SimpleImputer(strategy='most_frequent').fit_transform(df.iloc[:,10:76])\n",
    "\n",
    "df = df.fillna(1)\n",
    "\n",
    "features = list(df.columns)\n",
    "\n",
    "for feature in features :\n",
    "    print(feature, \" : \", df[feature].isnull().sum())\n",
    "    \n",
    "# Keeping usefull features\n",
    "    \n",
    "X = df.drop(['home_team_goal','away_team_goal','season','date','country_id','league_id','match_api_id'],axis='columns')\n",
    "\n",
    "# Target : \n",
    "    # 0 -> home_win, \n",
    "    # 1 -> draw, \n",
    "    # 2 -> away_win\n",
    "    \n",
    "Y = pd.Series(0,index=df.index)\n",
    "\n",
    "away = df[df['home_team_goal']<df['away_team_goal']].index\n",
    "draw = df[df['home_team_goal']==df['away_team_goal']].index\n",
    "\n",
    "Y[away] = 1\n",
    "Y[draw] = 2\n",
    "\n",
    "_ = Y.value_counts().plot(kind=\"bar\")\n",
    "\n",
    "# Train/Test split \n",
    "\n",
    "train_index = df[df['season'].isin(['2008/2009','2009/2010',\n",
    "                                  '2010/2011','2011/2012',\n",
    "                                  '2012/2013','2013/2014'])].index\n",
    "\n",
    "test_index = df[df['season'].isin(['2014/2015','2015/2016'])].index\n",
    "\n",
    "X_train = X.loc[train_index.values].set_index(pd.Index(range(1,19329)))\n",
    "X_test = X.loc[test_index.values].set_index(pd.Index(range(1,6652)))\n",
    "y_train = Y[train_index].set_axis(pd.Index(range(1,19329)))\n",
    "y_test = Y[test_index].set_axis(pd.Index(range(1,6652)))\n",
    "\n",
    "# First model\n",
    "\n",
    "model = lgb.LGBMClassifier()\n",
    "model = model.fit(X_train,y_train)\n",
    "preds = model.predict(X_test)\n",
    "accuracy = sklearn.metrics.accuracy_score(y_test, preds)\n",
    "print('accuracy : ', accuracy)\n",
    "\n",
    "# Visualisation selon les variables :\n",
    "    \n",
    "colors = ['r', 'b', 'g']\n",
    "labels = [0,1,2]\n",
    "\n",
    "def plot_classwise_normalized(feature, bins=None):\n",
    "    if bins is None:\n",
    "        bins = np.linspace(X_train[feature].min(), X_train[feature].max(), 10)\n",
    "    for label, color in zip(labels, colors):\n",
    "        plt.hist(X_train[y_train == label][feature].values, density=True, bins=bins, \n",
    "                 alpha=0.8, color=color)\n",
    "        plt.xlabel(feature)\n",
    "        plt.ylabel(\"Density\")\n",
    "\n",
    "        \n",
    "#for feature in features :\n",
    "#    plt.figure()\n",
    "#    plot_classwise_normalized(feature)\n",
    "    \n",
    "    \n",
    "def plot_classwise_scatter(feature1, feature2, range1=None, range2=None):\n",
    "    if range1 is None:\n",
    "        range1 = [X_train[feature1].min(), X_train[feature1].max()]\n",
    "    if range2 is None:\n",
    "        range2 = [X_train[feature2].min(), X_train[feature2].max()]\n",
    "    for label, color in zip(labels, colors):\n",
    "        plt.xlim(range1[0], range1[1])\n",
    "        plt.ylim(range2[0], range2[1])\n",
    "        plt.scatter(X_train[y_train == label][feature1], \n",
    "                    X_train[y_train == label][feature2],\n",
    "            alpha=0.3, s=80, c=color, marker='.');"
   ]
  },
  {
   "cell_type": "markdown",
   "metadata": {
    "id": "aWCme_vReFZQ"
   },
   "source": [
    "## 2. Description of the columns\n",
    "\n",
    "There are several interesting columns in the matches database."
   ]
  },
  {
   "cell_type": "markdown",
   "metadata": {
    "id": "b157rTNEesNV"
   },
   "source": [
    "## 3. Exploratory Data Analysis\n",
    "\n",
    "We'll do here some plots, as seen in the Stars challenge"
   ]
  },
  {
   "cell_type": "markdown",
   "metadata": {
    "id": "xgqktiB2ey-6"
   },
   "source": [
    "## 4. Explanation of the challenge\n",
    "\n",
    "The goal is to predict the outcome of a match."
   ]
  },
  {
   "cell_type": "markdown",
   "metadata": {
    "id": "LHHgNkQefBTT"
   },
   "source": [
    "### Example of pipeline with a Random Forests classifier"
   ]
  },
  {
   "cell_type": "code",
   "execution_count": null,
   "metadata": {
    "id": "IPTiqQwEfHuh"
   },
   "outputs": [],
   "source": [
    "# code pipeline Random Forest"
   ]
  }
 ],
 "metadata": {
  "colab": {
   "name": "datacamp_challenge.ipynb",
   "provenance": [],
   "toc_visible": true
  },
  "kernelspec": {
   "display_name": "Python 3",
   "language": "python",
   "name": "python3"
  },
  "language_info": {
   "codemirror_mode": {
    "name": "ipython",
    "version": 3
   },
   "file_extension": ".py",
   "mimetype": "text/x-python",
   "name": "python",
   "nbconvert_exporter": "python",
   "pygments_lexer": "ipython3",
   "version": "3.8.5"
  }
 },
 "nbformat": 4,
 "nbformat_minor": 4
}
